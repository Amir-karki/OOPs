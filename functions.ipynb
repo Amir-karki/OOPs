{
 "cells": [
  {
   "cell_type": "code",
   "execution_count": 11,
   "id": "da9e7e65-c54f-479e-916d-141b8298f052",
   "metadata": {},
   "outputs": [],
   "source": [
    "def is_even(num):\n",
    "    \"\"\"\n",
    "    This function returns if the given number is odd or even\n",
    "    input: any valid int\n",
    "    output: odd/even\n",
    "    created on: 05/21/2025\n",
    "    created by: Amir\n",
    "    \"\"\"\n",
    "    if type(num) == int:\n",
    "        if num % 2 == 0:\n",
    "            return 'even'\n",
    "        else:\n",
    "            return 'odd'\n",
    "    print(\"I accept integers only!\")"
   ]
  },
  {
   "cell_type": "code",
   "execution_count": 15,
   "id": "2088aae5-ea32-498d-9fc3-46ad94e4e52a",
   "metadata": {},
   "outputs": [
    {
     "name": "stdout",
     "output_type": "stream",
     "text": [
      "odd\n",
      "even\n",
      "odd\n",
      "even\n",
      "odd\n",
      "even\n",
      "odd\n",
      "even\n",
      "odd\n",
      "I accept integers only!\n"
     ]
    }
   ],
   "source": [
    "for i in range(1, 10):\n",
    "    x = is_even(i)\n",
    "    print(x)\n",
    "is_even(\"Sathi\")"
   ]
  },
  {
   "cell_type": "code",
   "execution_count": 17,
   "id": "0ff3388e-e5ca-4fea-8b02-2fe917a7793b",
   "metadata": {},
   "outputs": [],
   "source": [
    "def power(a, b):\n",
    "    return a ** b"
   ]
  },
  {
   "cell_type": "code",
   "execution_count": 23,
   "id": "bcd4425a-ee5c-4212-b59f-8a62d753883f",
   "metadata": {},
   "outputs": [
    {
     "data": {
      "text/plain": [
       "8"
      ]
     },
     "execution_count": 23,
     "metadata": {},
     "output_type": "execute_result"
    }
   ],
   "source": [
    "power(2, b=3)"
   ]
  },
  {
   "cell_type": "code",
   "execution_count": 119,
   "id": "7a90c06b-291a-4933-b605-38ed0a82037e",
   "metadata": {},
   "outputs": [],
   "source": [
    "def product(*args):\n",
    "    \"\"\"\n",
    "    This function will return the product of numbers passed in as arguments\n",
    "    input - any number of integers\n",
    "    output - multiplication of provided numbers, integer\n",
    "    \"\"\"\n",
    "    product = 1\n",
    "    for i in args:\n",
    "        if type(i) == int:\n",
    "            product = product * i\n",
    "        else:\n",
    "            return 'Only integers allowed!'\n",
    "    print(args)\n",
    "    return product"
   ]
  },
  {
   "cell_type": "markdown",
   "id": "43b2a6e6-866e-41af-8e39-41d0fad42a43",
   "metadata": {},
   "source": [
    "#### To know the documentation of any function, simply run print(function_name.__doc__)\n",
    "#### for example"
   ]
  },
  {
   "cell_type": "code",
   "execution_count": 124,
   "id": "911f65ea-9206-4b1e-a275-1b6c2fc40ce3",
   "metadata": {},
   "outputs": [
    {
     "name": "stdout",
     "output_type": "stream",
     "text": [
      "\n",
      "    This function will return the product of numbers passed in as arguments\n",
      "    input - any number of integers\n",
      "    output - multiplication of provided numbers, integer\n",
      "    \n"
     ]
    }
   ],
   "source": [
    "print(product.__doc__)"
   ]
  },
  {
   "cell_type": "code",
   "execution_count": 109,
   "id": "fde952ba-4946-4a96-a777-5b6b7117716e",
   "metadata": {},
   "outputs": [
    {
     "name": "stdout",
     "output_type": "stream",
     "text": [
      "(1, 2, 3, 4)\n",
      "24\n"
     ]
    }
   ],
   "source": [
    "print(product(1, 2, 3, 4))"
   ]
  },
  {
   "cell_type": "code",
   "execution_count": 111,
   "id": "c0ff3c40-2152-44af-967d-c9f22a2bd1ea",
   "metadata": {},
   "outputs": [
    {
     "name": "stdout",
     "output_type": "stream",
     "text": [
      "\n",
      "    This function will return the product of numbers passed in as arguments\n",
      "    input - any number of integers\n",
      "    output - multiplication of provided numbers, integer\n",
      "    \n"
     ]
    }
   ],
   "source": [
    "print(product.__doc__)"
   ]
  },
  {
   "cell_type": "code",
   "execution_count": 113,
   "id": "f168e9b0-bd8a-4b81-8f44-47e7cf4de976",
   "metadata": {},
   "outputs": [],
   "source": [
    "def countryCapitals(**kwargs):\n",
    "    for key, val in kwargs.items():\n",
    "        print(key, '->', val)"
   ]
  },
  {
   "cell_type": "code",
   "execution_count": 117,
   "id": "2633b7fd-259a-4405-a70e-a993ee870511",
   "metadata": {},
   "outputs": [
    {
     "name": "stdout",
     "output_type": "stream",
     "text": [
      "Nepal -> Kathmandu\n",
      "India -> Delhi\n",
      "China -> Beijing\n"
     ]
    }
   ],
   "source": [
    "countryCapitals(Nepal='Kathmandu', India='Delhi', China='Beijing')"
   ]
  },
  {
   "cell_type": "markdown",
   "id": "179de779-1be1-4f19-aa79-199b7dfb748f",
   "metadata": {},
   "source": [
    "#### Points to remember while using *args and **kwargs"
   ]
  },
  {
   "cell_type": "markdown",
   "id": "0391dbbe-9e34-43a0-977f-68f1f41cf70d",
   "metadata": {},
   "source": [
    "##### Order of argument matters(normal -> *args -> **kwargs)\n",
    "##### *args and **kwargs are only conventional names, and we can use any other name innit instead"
   ]
  },
  {
   "cell_type": "markdown",
   "id": "144fbb70-b37d-4b6a-a426-9c082c45e6f8",
   "metadata": {},
   "source": [
    "<h4 style='color:green'>How Functions are executed in the memory?</h4>"
   ]
  },
  {
   "cell_type": "markdown",
   "id": "38761517-3eed-4efc-b84d-b0e672db778d",
   "metadata": {},
   "source": [
    "Functions will have dedicated memory allocations during their execution where all the variables of a function are stored inside it. Once the function finishes executing and returns a value, its memory presence is destroyed, thus, its lifespan is only during the execution period."
   ]
  },
  {
   "cell_type": "markdown",
   "id": "54e07ed9-23dd-4b63-908c-554821088d02",
   "metadata": {},
   "source": [
    "<h4 style='color:green'>Without return statement</h4>"
   ]
  },
  {
   "cell_type": "markdown",
   "id": "5decbf9c-7cc7-4966-aeac-6f6e0750b569",
   "metadata": {},
   "source": [
    "If we write a function that doesn't return something, but we print something inside it, then the function will still return None, it is implemented by default. Thus, we will get the output of print statement and None, so it is important to return."
   ]
  },
  {
   "cell_type": "code",
   "execution_count": 142,
   "id": "eb9b6e41-f47a-45e6-8f61-2b98399588eb",
   "metadata": {},
   "outputs": [],
   "source": [
    "def isAdult(age):\n",
    "    if age < 18:\n",
    "        print('Kid')\n",
    "    elif 18 <= age <= 45:\n",
    "        print('Young')\n",
    "    else:\n",
    "        print('Old')"
   ]
  },
  {
   "cell_type": "code",
   "execution_count": 154,
   "id": "13c489f8-5e1b-47ef-9580-b9e36f078fba",
   "metadata": {},
   "outputs": [
    {
     "name": "stdout",
     "output_type": "stream",
     "text": [
      "None\n",
      "['apple', 'banana', 'mango']\n"
     ]
    }
   ],
   "source": [
    "list = ['apple', 'banana']\n",
    "print(list.append('mango')) # will print None, because it modifies the list but doesn't return anything\n",
    "print(list)"
   ]
  },
  {
   "cell_type": "code",
   "execution_count": 148,
   "id": "9fe1d9bf-e533-4088-b056-59eafa602b3f",
   "metadata": {},
   "outputs": [
    {
     "name": "stdout",
     "output_type": "stream",
     "text": [
      "Young\n",
      "None\n"
     ]
    }
   ],
   "source": [
    "# isAdult(32)\n",
    "print(isAdult(32))"
   ]
  },
  {
   "cell_type": "markdown",
   "id": "daed1d15-0c28-4935-81b8-3b16a6cec2ff",
   "metadata": {},
   "source": [
    "<h4 style='color:green'>Variable Scope</h4>"
   ]
  },
  {
   "cell_type": "code",
   "execution_count": 172,
   "id": "3d4d138a-8dc8-4904-9083-67da658d0844",
   "metadata": {},
   "outputs": [],
   "source": [
    "def increment(y):\n",
    "    print(x)\n",
    "    print(x+1) # local scope, variable in only increased inside this function"
   ]
  },
  {
   "cell_type": "code",
   "execution_count": 174,
   "id": "a8ebc1a6-22c4-4307-a422-2d1485f9e0d8",
   "metadata": {},
   "outputs": [
    {
     "name": "stdout",
     "output_type": "stream",
     "text": [
      "10\n",
      "11\n",
      "10\n"
     ]
    }
   ],
   "source": [
    "x = 10\n",
    "increment(x)\n",
    "print(x) # global scope, variable's value remains same as it was during initialization"
   ]
  },
  {
   "cell_type": "markdown",
   "id": "08232c3f-11f3-4cbf-9510-ceb01f2d6f49",
   "metadata": {},
   "source": [
    "##### Functions can only access the global variables, but cannot make changes to it. For example,"
   ]
  },
  {
   "cell_type": "code",
   "execution_count": 201,
   "id": "db1defdb-60a7-42e3-9c45-288148de0ee0",
   "metadata": {},
   "outputs": [],
   "source": [
    "def decrement(y):\n",
    "    # but we can make this change if we make this variable global, in it's local instance, although it's not a good practice\n",
    "    global x\n",
    "    x -= 1\n",
    "    print(x)"
   ]
  },
  {
   "cell_type": "code",
   "execution_count": 203,
   "id": "5cd9da72-c3a3-4d5c-bddf-545aa808a08f",
   "metadata": {},
   "outputs": [
    {
     "name": "stdout",
     "output_type": "stream",
     "text": [
      "3\n",
      "3\n"
     ]
    }
   ],
   "source": [
    "x = 4\n",
    "decrement(x)\n",
    "print(x)"
   ]
  },
  {
   "cell_type": "markdown",
   "id": "dda805bc-94b4-4185-b4ee-28c34c36e301",
   "metadata": {},
   "source": [
    "As we can see now, the global reference of x also changes in this case."
   ]
  },
  {
   "cell_type": "markdown",
   "id": "9d7f0cdb-b72f-4c06-b807-7b5033c172aa",
   "metadata": {},
   "source": [
    "<h4 style='color:green'>Nested functions</h4>"
   ]
  },
  {
   "cell_type": "code",
   "execution_count": 213,
   "id": "dfba7c83-e8fe-4c6a-8f0b-bff4dc3deaf0",
   "metadata": {},
   "outputs": [
    {
     "name": "stdout",
     "output_type": "stream",
     "text": [
      "Value of x inside g(x) 4\n",
      "Value of x inside h(x) abc\n",
      "3\n",
      "4\n"
     ]
    }
   ],
   "source": [
    "def g(x):\n",
    "    def h(x):\n",
    "        x = 'abc'\n",
    "        print(f\"Value of x inside h(x)\", x)\n",
    "    x = x + 1\n",
    "    print('Value of x inside g(x)', x)\n",
    "    h(x)\n",
    "    return x\n",
    "    \n",
    "x = 3\n",
    "z = g(x)\n",
    "print(x)\n",
    "print(z)"
   ]
  },
  {
   "cell_type": "markdown",
   "id": "f84e549f-c77e-481e-93ce-e22b69580336",
   "metadata": {},
   "source": [
    "<h4 style='color:green'>Functions in pythons are 1st class citizens, they work just like other data types</h4>"
   ]
  },
  {
   "cell_type": "markdown",
   "id": "cc8d3233-c9a5-4ed9-80e2-8d32eaa3afa1",
   "metadata": {},
   "source": [
    "This means that, we can get the type and id of function just as we would of any other data types, for instance"
   ]
  },
  {
   "cell_type": "markdown",
   "id": "85a639be-8633-4e6a-9fc6-1e8985322dbb",
   "metadata": {},
   "source": [
    "##### type and id"
   ]
  },
  {
   "cell_type": "code",
   "execution_count": 217,
   "id": "f70afd7f-2478-4b5a-9d55-c130df9de5b8",
   "metadata": {},
   "outputs": [],
   "source": [
    "def square(num):\n",
    "    return num ** 2"
   ]
  },
  {
   "cell_type": "code",
   "execution_count": 232,
   "id": "aab269ee-5cfd-403c-86fc-ac9849f94b9f",
   "metadata": {},
   "outputs": [
    {
     "name": "stdout",
     "output_type": "stream",
     "text": [
      "<class 'function'>\n",
      "1777119295136\n"
     ]
    }
   ],
   "source": [
    "square(2)\n",
    "print(type(square))\n",
    "print(id(square)) # id gives the memory location of the function"
   ]
  },
  {
   "cell_type": "code",
   "execution_count": 235,
   "id": "192ab970-cbcd-4d6c-ac23-40ceb0287293",
   "metadata": {},
   "outputs": [
    {
     "name": "stdout",
     "output_type": "stream",
     "text": [
      "<function square at 0x0000019DC49076A0>\n"
     ]
    }
   ],
   "source": [
    "x = square\n",
    "print(x)"
   ]
  },
  {
   "cell_type": "markdown",
   "id": "81d2dcf6-0b25-4315-aace-a5f14de32266",
   "metadata": {},
   "source": [
    "#### we can also delete a function using del square"
   ]
  },
  {
   "cell_type": "code",
   "execution_count": 238,
   "id": "742f4ef9-3629-42e8-953a-1fac9b6b5d0b",
   "metadata": {},
   "outputs": [
    {
     "ename": "NameError",
     "evalue": "name 'square' is not defined",
     "output_type": "error",
     "traceback": [
      "\u001b[1;31m---------------------------------------------------------------------------\u001b[0m",
      "\u001b[1;31mNameError\u001b[0m                                 Traceback (most recent call last)",
      "Cell \u001b[1;32mIn[238], line 2\u001b[0m\n\u001b[0;32m      1\u001b[0m \u001b[38;5;28;01mdel\u001b[39;00m square\n\u001b[1;32m----> 2\u001b[0m \u001b[43msquare\u001b[49m(\u001b[38;5;241m3\u001b[39m)\n",
      "\u001b[1;31mNameError\u001b[0m: name 'square' is not defined"
     ]
    }
   ],
   "source": [
    "del square\n",
    "square(3)"
   ]
  },
  {
   "cell_type": "markdown",
   "id": "77fb87c3-8c71-4b2b-b387-61e64a8c7186",
   "metadata": {},
   "source": [
    "#### functions can also be passed as a reference to another function"
   ]
  },
  {
   "cell_type": "code",
   "execution_count": 241,
   "id": "d840226d-b303-4083-a7de-f1332035fad8",
   "metadata": {},
   "outputs": [
    {
     "name": "stdout",
     "output_type": "stream",
     "text": [
      "5\n"
     ]
    }
   ],
   "source": [
    "def f():\n",
    "    def x(a, b):\n",
    "        return a + b\n",
    "    return x\n",
    "    \n",
    "z = f()(2, 3)\n",
    "print(z)"
   ]
  },
  {
   "cell_type": "markdown",
   "id": "9868cab9-4ca5-4e60-baf9-e852ebfc4da4",
   "metadata": {},
   "source": [
    "### Long story short, meaning of 1st class citizen means, it has all the privileges, so whatever dtypes like int, str etc can do, functions can do as well."
   ]
  },
  {
   "cell_type": "markdown",
   "id": "a3a55b7d-2767-4f34-b142-c3d7fc5301c5",
   "metadata": {},
   "source": [
    "<h4 style='color:green'>Benefits of using a function:</h4>\n",
    "<h5 style='color:blue'>\n",
    "    <li>Code Modularity</li><br>\n",
    "    <li>Code Readability</li><br>\n",
    "    <li>Code Reusability</li>\n",
    "</h5>"
   ]
  },
  {
   "cell_type": "markdown",
   "id": "5cfe0da3-8e98-4547-b529-351abf01361d",
   "metadata": {},
   "source": [
    "<h4 style='color:green'>Lambda Functions</h4>: A lambda function is a small anonymous function\n",
    "A lambda function can take any number of arguments, but has only one expression\n"
   ]
  },
  {
   "cell_type": "code",
   "execution_count": 253,
   "id": "f7608789-c2ef-4d62-a535-d9355d5133e5",
   "metadata": {},
   "outputs": [
    {
     "data": {
      "text/plain": [
       "25"
      ]
     },
     "execution_count": 253,
     "metadata": {},
     "output_type": "execute_result"
    }
   ],
   "source": [
    "a = lambda x: x ** 2\n",
    "a(5)"
   ]
  },
  {
   "cell_type": "code",
   "execution_count": 255,
   "id": "b816d9cb-a410-407a-88d2-940d8af7a6a5",
   "metadata": {},
   "outputs": [
    {
     "data": {
      "text/plain": [
       "9"
      ]
     },
     "execution_count": 255,
     "metadata": {},
     "output_type": "execute_result"
    }
   ],
   "source": [
    "a = lambda x,y : x + y\n",
    "a(5, 4)"
   ]
  },
  {
   "cell_type": "markdown",
   "id": "9408e024-2122-4852-b73b-f77af148fc93",
   "metadata": {},
   "source": [
    "#### Lambda functions are used with HOFs"
   ]
  },
  {
   "cell_type": "code",
   "execution_count": 264,
   "id": "028c537a-338c-4f88-a013-1701557f6313",
   "metadata": {},
   "outputs": [
    {
     "data": {
      "text/plain": [
       "True"
      ]
     },
     "execution_count": 264,
     "metadata": {},
     "output_type": "execute_result"
    }
   ],
   "source": [
    "is_a = lambda string: 'a' in string\n",
    "is_a('amir')"
   ]
  },
  {
   "cell_type": "markdown",
   "id": "24d4d3b4-1da5-4ee9-9f6a-f0f62efe0e81",
   "metadata": {},
   "source": [
    "<h4 style='color:green'>Higher Order Functions</h4>: A function that has function as one of the input and returns a function itself.\n"
   ]
  },
  {
   "cell_type": "code",
   "execution_count": 276,
   "id": "e90dc2c0-d776-4f1f-9f91-16fb06de0039",
   "metadata": {},
   "outputs": [
    {
     "name": "stdout",
     "output_type": "stream",
     "text": [
      "[1, 4, 9, 16, 25]\n"
     ]
    }
   ],
   "source": [
    "def square(num):\n",
    "    return num ** 2\n",
    "\n",
    "def func(f, L):\n",
    "    output = []\n",
    "    for i in L:\n",
    "        output.append(f(i))\n",
    "    return output\n",
    "    \n",
    "L = [1, 2, 3, 4, 5]\n",
    "print(func(square, L))"
   ]
  },
  {
   "cell_type": "markdown",
   "id": "ad42a478-d26d-48f6-aa4f-4622e8780831",
   "metadata": {},
   "source": [
    "Now, if we want to calculate cube, we'll need to create another function right, so to avoid such repetitions, we use HOF"
   ]
  },
  {
   "cell_type": "code",
   "execution_count": 279,
   "id": "b0112f90-09e9-4ed7-80c9-c649be54b3e6",
   "metadata": {},
   "outputs": [],
   "source": [
    "def func(f, L):\n",
    "    output = []\n",
    "    for i in L:\n",
    "        output.append(f(i))\n",
    "    return output"
   ]
  },
  {
   "cell_type": "code",
   "execution_count": 281,
   "id": "a02e6885-2d46-4ead-bba1-c2598f56f55f",
   "metadata": {},
   "outputs": [
    {
     "name": "stdout",
     "output_type": "stream",
     "text": [
      "[1, 4, 9, 16, 25]\n",
      "[1, 8, 27, 64, 125]\n"
     ]
    }
   ],
   "source": [
    "L = [1, 2, 3, 4, 5]\n",
    "print(func(lambda x: x**2, L))\n",
    "print(func(lambda x: x**3, L))"
   ]
  },
  {
   "cell_type": "markdown",
   "id": "bc433d8a-39f0-4bab-a7a5-49bdcba91b26",
   "metadata": {},
   "source": [
    "<h4 style='color:green'>Higher Order Functions, USES</h4>"
   ]
  },
  {
   "cell_type": "markdown",
   "id": "799e00c7-84da-401f-b6c6-1b766bb5b3a2",
   "metadata": {},
   "source": [
    "<h4>1. Map</h4>"
   ]
  },
  {
   "cell_type": "markdown",
   "id": "0db7c213-e1b5-4f30-b740-5fcfe2e2dbe9",
   "metadata": {},
   "source": [
    "<h5>Map is a built-in function that always expects two things: a lambda functions and an iterable(list). Using it, we can transform the list in any possible ways</h5>"
   ]
  },
  {
   "cell_type": "code",
   "execution_count": 295,
   "id": "3f21a8eb-e04c-435a-afd0-c9b4b803505b",
   "metadata": {},
   "outputs": [
    {
     "data": {
      "text/plain": [
       "[1, 4, 9, 16, 25]"
      ]
     },
     "execution_count": 295,
     "metadata": {},
     "output_type": "execute_result"
    }
   ],
   "source": [
    "list(map(lambda x: x ** 2, [1, 2, 3, 4, 5]))"
   ]
  },
  {
   "cell_type": "code",
   "execution_count": 299,
   "id": "00a2ef54-d0d8-4087-875f-32c133005acf",
   "metadata": {},
   "outputs": [
    {
     "data": {
      "text/plain": [
       "['odd', 'even', 'odd', 'even', 'odd', 'even', 'odd']"
      ]
     },
     "execution_count": 299,
     "metadata": {},
     "output_type": "execute_result"
    }
   ],
   "source": [
    "list_of_num = [1, 2, 3, 4, 5, 6, 7]\n",
    "list(map(lambda x: 'even' if (x % 2 == 0) else 'odd', list_of_num))"
   ]
  },
  {
   "cell_type": "markdown",
   "id": "4d771fb9-9b40-461c-9d20-fdf59c8cfa40",
   "metadata": {},
   "source": [
    "<h4>2. Filter:</h4>"
   ]
  },
  {
   "cell_type": "markdown",
   "id": "ebceef8c-9d3b-4489-a038-32c5f8424b98",
   "metadata": {},
   "source": [
    "<h5>Filters a list based on some conditions</h5>"
   ]
  },
  {
   "cell_type": "code",
   "execution_count": 316,
   "id": "940c56cb-0d7f-4c7e-b3e3-1827cc1df93c",
   "metadata": {},
   "outputs": [
    {
     "data": {
      "text/plain": [
       "(9, 16, 25, 36)"
      ]
     },
     "execution_count": 316,
     "metadata": {},
     "output_type": "execute_result"
    }
   ],
   "source": [
    "new_list = [1, 4, 9, 16, 25, 36]\n",
    "tuple(filter(lambda x: x > 5, new_list))"
   ]
  },
  {
   "cell_type": "code",
   "execution_count": 318,
   "id": "bd2de362-7f5b-4513-ba4b-61374efdbc7d",
   "metadata": {},
   "outputs": [
    {
     "data": {
      "text/plain": [
       "['apple', 'avacado']"
      ]
     },
     "execution_count": 318,
     "metadata": {},
     "output_type": "execute_result"
    }
   ],
   "source": [
    "fruits = ['apple', 'avacado', 'mango', 'banana']\n",
    "list(filter(lambda x: x.startswith('a'), fruits))"
   ]
  },
  {
   "cell_type": "markdown",
   "id": "9a124b86-53fa-4e3d-b4b3-3f31d9ab1815",
   "metadata": {},
   "source": [
    "<h4>3. Reduce:</h4> reduce is not built-in by default but requires manual import from functools"
   ]
  },
  {
   "cell_type": "code",
   "execution_count": 323,
   "id": "0c9f61b0-18bf-4375-9082-cbd91cb2f336",
   "metadata": {},
   "outputs": [
    {
     "data": {
      "text/plain": [
       "14"
      ]
     },
     "execution_count": 323,
     "metadata": {},
     "output_type": "execute_result"
    }
   ],
   "source": [
    "import functools\n",
    "functools.reduce(lambda x,y: x + y, [1, 3, 4, 6])"
   ]
  },
  {
   "cell_type": "code",
   "execution_count": null,
   "id": "88c78e4e-4121-4853-aa21-a37800db2972",
   "metadata": {},
   "outputs": [],
   "source": []
  }
 ],
 "metadata": {
  "kernelspec": {
   "display_name": "Python 3 (ipykernel)",
   "language": "python",
   "name": "python3"
  },
  "language_info": {
   "codemirror_mode": {
    "name": "ipython",
    "version": 3
   },
   "file_extension": ".py",
   "mimetype": "text/x-python",
   "name": "python",
   "nbconvert_exporter": "python",
   "pygments_lexer": "ipython3",
   "version": "3.12.4"
  }
 },
 "nbformat": 4,
 "nbformat_minor": 5
}
