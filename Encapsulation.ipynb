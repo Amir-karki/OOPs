{
 "cells": [
  {
   "cell_type": "markdown",
   "id": "ae714bf2-bc12-44d6-ac05-1b268aa3852e",
   "metadata": {},
   "source": [
    "<h5>REVISION of Classes and Objects</h5>"
   ]
  },
  {
   "cell_type": "markdown",
   "id": "c3486f36-b47c-4490-8289-4b5d65767885",
   "metadata": {},
   "source": [
    "Write OOP classes to handle the following scenarios:\n",
    "1. A user can create and view 2D coordinates\n",
    "2. A user can find out the distance between 2 coordinates\n",
    "3. A user can find the distance of a coordinate from origin\n",
    "4. A user can check if a point lies in a given line\n",
    "5. A user can find the distance between a given 2D point and a given line"
   ]
  },
  {
   "cell_type": "code",
   "execution_count": 76,
   "id": "f7578079-b554-472a-9069-a2c1f66468cb",
   "metadata": {},
   "outputs": [],
   "source": [
    "import math\n",
    "class Point:\n",
    "\n",
    "    def __init__(self, x, y):\n",
    "        self.x_coord = x\n",
    "        self.y_coord = y\n",
    "\n",
    "    def __str__(self):\n",
    "        return '({}, {})'.format(self.x_coord, self.y_coord)\n",
    "\n",
    "    def euclidean_distance(self, other):\n",
    "        return math.sqrt((self.x_coord - other.x_coord)**2 + (self.y_coord - other.y_coord)**2)\n",
    "\n",
    "    def distance_from_origin(self):\n",
    "        return math.sqrt((self.x_coord)**2 + (self.y_coord)**2)\n",
    "\n",
    "\n",
    "class Line:\n",
    "    def __init__(self, A, B, C):\n",
    "        self.A = A\n",
    "        self.B = B\n",
    "        self.C = C\n",
    "\n",
    "    def point_on_line(line, point):\n",
    "        if line.A*point.x_coord + line.B*point.y_coord + line.C == 0:\n",
    "            return \"Point lies on line\"\n",
    "        else:\n",
    "            return \"Point doesn't lie on line\"\n",
    "\n",
    "    def shortest_distance(line, point):\n",
    "        return abs(line.A*point.x_coord + line.B*point.y_coord + line.C)/math.sqrt(point.x_coord**2 + point.y_coord**2)\n",
    "        "
   ]
  },
  {
   "cell_type": "code",
   "execution_count": 78,
   "id": "17699d42-16f1-43de-8495-82aac996fafa",
   "metadata": {},
   "outputs": [
    {
     "name": "stdout",
     "output_type": "stream",
     "text": [
      "(1, 1)\n"
     ]
    },
    {
     "data": {
      "text/plain": [
       "3.605551275463989"
      ]
     },
     "execution_count": 78,
     "metadata": {},
     "output_type": "execute_result"
    }
   ],
   "source": [
    "point1 = Point(0, 0)\n",
    "point2 = Point(1, 1)\n",
    "point3 = Point(3, -2)\n",
    "print(point2)\n",
    "point1.euclidean_distance(point2)\n",
    "point3.distance_from_origin()"
   ]
  },
  {
   "cell_type": "code",
   "execution_count": 86,
   "id": "4acb1c83-4d6e-4915-9344-933c3eb78b2c",
   "metadata": {},
   "outputs": [
    {
     "data": {
      "text/plain": [
       "0.2773500981126146"
      ]
     },
     "execution_count": 86,
     "metadata": {},
     "output_type": "execute_result"
    }
   ],
   "source": [
    "line = Line(1, 1, -2)\n",
    "line.point_on_line(point2)\n",
    "line.shortest_distance(point3)"
   ]
  },
  {
   "cell_type": "markdown",
   "id": "09dae386-d98c-4719-b432-cc2ec8a7c4c8",
   "metadata": {},
   "source": [
    "<h5>Reference Variables:</h5>\n",
    "\n",
    "1. Reference variables hold the objects\n",
    "2. We can create objects without reference variable as well\n",
    "3. An object can have multiple reference variables\n",
    "4. Assigning a new reference variable to an existing object does not create a new object"
   ]
  },
  {
   "cell_type": "code",
   "execution_count": 91,
   "id": "21999c89-4a5b-41d5-abbd-a19e9cb0fe3a",
   "metadata": {},
   "outputs": [],
   "source": [
    "class Person:\n",
    "    def __init__(self, name, gender):\n",
    "        self.name = name\n",
    "        self.gender = gender"
   ]
  },
  {
   "cell_type": "code",
   "execution_count": 100,
   "id": "00aaddf4-cdb7-4a7b-ae96-022da4f06826",
   "metadata": {},
   "outputs": [
    {
     "name": "stdout",
     "output_type": "stream",
     "text": [
      "2201683514368 2201683514368\n"
     ]
    }
   ],
   "source": [
    "p = Person('Amir', 'Male')  # we are actually storing the address of the newly created object into p.\n",
    "q = p # q and p both refers to same object, same address\n",
    "print(id(p), id(q))"
   ]
  },
  {
   "cell_type": "code",
   "execution_count": 102,
   "id": "91c64f4d-f7de-44cc-b1d2-f1ed6aa4d683",
   "metadata": {},
   "outputs": [],
   "source": [
    "p.name = 'AK47'"
   ]
  },
  {
   "cell_type": "code",
   "execution_count": 108,
   "id": "cdec73aa-a5cc-4d51-9ba0-4a7d0cf7a39e",
   "metadata": {},
   "outputs": [
    {
     "name": "stdout",
     "output_type": "stream",
     "text": [
      "AK47 AK47\n"
     ]
    }
   ],
   "source": [
    "print(p.name, q.name) # changing the variables value will reflect change across all variables accesing it. So have to be super careful doing so."
   ]
  },
  {
   "cell_type": "code",
   "execution_count": 122,
   "id": "f1b948e3-c26f-49e6-b759-ee58c900c9a7",
   "metadata": {},
   "outputs": [],
   "source": [
    "class Person:\n",
    "    def __init__(self, name, gender):\n",
    "        self.name = name\n",
    "        self.gender = gender\n",
    "\n",
    "def greet(person):\n",
    "    print(f\"Hi there, my name is {person.name} and I'm {person.gender}.\")\n",
    "    person.name = 'Suzta'\n",
    "    person.gender = 'Female'\n",
    "    return person"
   ]
  },
  {
   "cell_type": "code",
   "execution_count": 134,
   "id": "bfb387f1-9ddd-4923-bb7a-277401b5b195",
   "metadata": {},
   "outputs": [
    {
     "name": "stdout",
     "output_type": "stream",
     "text": [
      "Hi there, my name is Aashish and I'm Male.\n",
      "Hi there, my name is Suzta and I'm Female.\n"
     ]
    }
   ],
   "source": [
    "p = Person('Aashish', 'Male')\n",
    "greet(p)\n",
    "new_person = greet(p)\n",
    "# print(new_person.name, new_person.gender)"
   ]
  },
  {
   "cell_type": "code",
   "execution_count": null,
   "id": "a4c3b9cd-28f5-48b4-8bd3-e970bd6b5a13",
   "metadata": {},
   "outputs": [],
   "source": []
  },
  {
   "cell_type": "code",
   "execution_count": 57,
   "id": "18d362bf-6012-45e4-a647-06d6d6d5a404",
   "metadata": {},
   "outputs": [],
   "source": [
    "class Atm:\n",
    "\n",
    "    __counter = 1 # creating a static variable\n",
    "\n",
    "    def __init__(self):\n",
    "        self.pin = ''\n",
    "        self.__balance = 0\n",
    "        self.cust_id = Atm.__counter # static variable always starts with classname.name_of_variable\n",
    "        Atm.__counter += 1\n",
    "\n",
    "    @staticmethod\n",
    "    def get_counter():\n",
    "        return Atm.__counter\n",
    "\n",
    "    def get_balance(self):\n",
    "        return self.__balance\n",
    "\n",
    "    def set_balance(self, new_balance):\n",
    "        self.__balance = new_balance\n",
    "\n",
    "    def home(self):\n",
    "        user_input = input(\"\"\"\n",
    "        Hi there, how can I help you today?\n",
    "        1. Enter 1 to set pin\n",
    "        2. Enter 2 to reset pin\n",
    "        3. Enter 3 to check balance\n",
    "        4. Enter 4 to withdraw\n",
    "        5. Enter anyother key to exit\n",
    "        \"\"\")\n",
    "\n",
    "        if user_input == '1':\n",
    "            # set pin\n",
    "            self.create_pin()\n",
    "        elif user_input == '2':\n",
    "            # reset pin\n",
    "            self.reset_pin()\n",
    "        elif user_input == '3':\n",
    "            # check balance\n",
    "            self.check_balance()\n",
    "        elif user_input == '4':\n",
    "            # withdraw money\n",
    "            self.withdraw()\n",
    "        else:\n",
    "            exit()\n",
    "\n",
    "    def create_pin(self):\n",
    "        user_pin = input(\"Enter pin: \")\n",
    "        self.pin = user_pin\n",
    "\n",
    "        user_balance = int(input(\"Please enter your balance: \"))\n",
    "        self.balance = user_balance\n",
    "\n",
    "        print(\"Pin Created Successfully!\")\n",
    "\n",
    "    def reset_pin(self):\n",
    "        old_pin = input(\"Enter your old pin to continue!\")\n",
    "        if old_pin == self.pin:\n",
    "            new_pin = input(\"Enter new pin: \")\n",
    "            self.pin = new_pin\n",
    "            self.home()\n",
    "        else:\n",
    "            print(\"Old pin didn't match!\")\n",
    "            self.home()\n",
    "\n",
    "    def check_balance(self):\n",
    "        check_pin = input(\"Enter your pin to check balance: \")\n",
    "        if check_pin == self.pin:\n",
    "            print(f\"Your balance is {self.__balance}\")\n",
    "        else:\n",
    "            print(\"Sorry, the pin you entered is incorrect!\")\n",
    "\n",
    "    def withdraw(self):\n",
    "        withdraw_pin = input(\"Enter your pin to withdraw balance: \")\n",
    "        if withdraw_pin == self.pin:\n",
    "            amount = int(input(\"Enter the amount you want to withdraw: \"))\n",
    "            if amount <= self.__balance:\n",
    "                self.__balance = self.__balance - amount\n",
    "                print(f\"Your balance of amount {amount} is withdrawn. Remaining balance: {self.__balance}\")\n",
    "            else:\n",
    "                print(\"Sorry not enough funds!\")\n",
    "        else:\n",
    "            print(\"The pin you entered is incorrect!\")\n",
    "        self.home()\n",
    "            "
   ]
  },
  {
   "cell_type": "code",
   "execution_count": 59,
   "id": "1481e5a2-c1ec-4273-8179-bb69f91e3f35",
   "metadata": {},
   "outputs": [
    {
     "name": "stdout",
     "output_type": "stream",
     "text": [
      "2\n"
     ]
    }
   ],
   "source": [
    "obj = Atm()\n",
    "obj1 = Atm()\n",
    "obj3 = Atm()\n",
    "print(obj1.cust_id)\n",
    "# obj.create_pin()"
   ]
  },
  {
   "cell_type": "code",
   "execution_count": 49,
   "id": "0676dcdd-8439-4bf7-84c1-b3ca678d9881",
   "metadata": {},
   "outputs": [
    {
     "data": {
      "text/plain": [
       "0"
      ]
     },
     "execution_count": 49,
     "metadata": {},
     "output_type": "execute_result"
    }
   ],
   "source": [
    "obj.get_balance()"
   ]
  },
  {
   "cell_type": "code",
   "execution_count": 28,
   "id": "ab0bb37c-9ba2-4faa-9654-4cbea195c8ab",
   "metadata": {},
   "outputs": [
    {
     "name": "stdout",
     "output_type": "stream",
     "text": [
      "1000\n"
     ]
    }
   ],
   "source": [
    "obj.set_balance(1000)\n",
    "print(obj.get_balance())"
   ]
  },
  {
   "cell_type": "code",
   "execution_count": 55,
   "id": "e1f6c2cf-53d3-43ba-abb0-bb005ad33073",
   "metadata": {},
   "outputs": [
    {
     "name": "stdout",
     "output_type": "stream",
     "text": [
      "0\n",
      "12\n"
     ]
    }
   ],
   "source": [
    "print(obj._Atm__balance)\n",
    "print(Atm.counter)"
   ]
  },
  {
   "cell_type": "code",
   "execution_count": 67,
   "id": "36b05ea6-e578-4a9d-8cc2-6c1fd11ff7ba",
   "metadata": {},
   "outputs": [
    {
     "name": "stdout",
     "output_type": "stream",
     "text": [
      "4\n"
     ]
    }
   ],
   "source": [
    "print(Atm.get_counter())"
   ]
  },
  {
   "cell_type": "markdown",
   "id": "0e32805e-8135-4880-9f31-6c11798d2132",
   "metadata": {},
   "source": [
    "__balance, will make the instance variable private, meaning it's value cannot be changed from outside. However, it is not fully private, In python, when private instance variable is created, the naming convention is that the variable new name becomes _Classname__variableName, so when other fellow developers tries to change the value referencing the original variable, new variable will be created instead and it doesn't affect the code. However, it other fellow knows how python works under the hood then you cannot really hide it. "
   ]
  },
  {
   "cell_type": "markdown",
   "id": "e6c5cc9a-1611-44d9-9b0f-d2a30bb80c73",
   "metadata": {},
   "source": [
    "Another careful way in which you want to give access to your private variables without directly affecting your code is by using getters and setters. Getters and setters are both methods, in which getters will return the value to the user while setters will help to modify. One perks of using getters and setters is that since it is a method in itself, you can use try-catch or different error handling strategies to prevent your code from breakdown"
   ]
  },
  {
   "cell_type": "code",
   "execution_count": null,
   "id": "eb24992c-b286-41e1-a426-2b673ddf98c0",
   "metadata": {},
   "outputs": [],
   "source": []
  }
 ],
 "metadata": {
  "kernelspec": {
   "display_name": "Python 3 (ipykernel)",
   "language": "python",
   "name": "python3"
  },
  "language_info": {
   "codemirror_mode": {
    "name": "ipython",
    "version": 3
   },
   "file_extension": ".py",
   "mimetype": "text/x-python",
   "name": "python",
   "nbconvert_exporter": "python",
   "pygments_lexer": "ipython3",
   "version": "3.12.4"
  }
 },
 "nbformat": 4,
 "nbformat_minor": 5
}
