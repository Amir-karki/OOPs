{
 "cells": [
  {
   "cell_type": "markdown",
   "id": "a28d207f-f4f4-4384-9ac8-1d7db8c31269",
   "metadata": {},
   "source": [
    "Write a Python function that takes a list and returns a new list with unique elements of the first list."
   ]
  },
  {
   "cell_type": "code",
   "execution_count": 9,
   "id": "e4eb2902-7d65-4eff-9274-b78eb62f7a0d",
   "metadata": {},
   "outputs": [],
   "source": [
    "def return_unique(lst):\n",
    "    return list(set(lst))"
   ]
  },
  {
   "cell_type": "code",
   "execution_count": 11,
   "id": "c47c5473-2957-4668-9610-5f87d94ddc0e",
   "metadata": {},
   "outputs": [
    {
     "data": {
      "text/plain": [
       "[1, 2, 3, 4, 6, 7]"
      ]
     },
     "execution_count": 11,
     "metadata": {},
     "output_type": "execute_result"
    }
   ],
   "source": [
    "lst = [1, 2, 4, 4, 6, 7, 3, 1]\n",
    "return_unique(lst)"
   ]
  },
  {
   "cell_type": "markdown",
   "id": "66ebafbd-4614-4a0b-b312-ec13a73e86f2",
   "metadata": {},
   "source": [
    "Write a Python function that accepts a hyphen-separated sequence of words as parameter and returns the words in a hyphen-separated sequence after sorting them alphabetically."
   ]
  },
  {
   "cell_type": "code",
   "execution_count": 28,
   "id": "3b52da46-6ed9-48b8-bb45-cf3ee135bdca",
   "metadata": {},
   "outputs": [],
   "source": [
    "def hyphen_sorted(str):\n",
    "    result = str.split('-')\n",
    "    result.sort()\n",
    "    sorted_result = '-'.join(result)\n",
    "    return sorted_result"
   ]
  },
  {
   "cell_type": "code",
   "execution_count": 30,
   "id": "27b70ad5-2170-4451-8493-5fe67a4c49bc",
   "metadata": {},
   "outputs": [
    {
     "data": {
      "text/plain": [
       "'Aashish-Amir-Kritan-Madan-Sanskar'"
      ]
     },
     "execution_count": 30,
     "metadata": {},
     "output_type": "execute_result"
    }
   ],
   "source": [
    "to_sort = \"Amir-Sanskar-Aashish-Madan-Kritan\"\n",
    "hyphen_sorted(to_sort)"
   ]
  },
  {
   "cell_type": "markdown",
   "id": "936c4962-729d-461d-90da-363a1bb90e92",
   "metadata": {},
   "source": [
    "Write a Python function that accepts a string and calculate the number of upper case letters and lower case letters."
   ]
  },
  {
   "cell_type": "code",
   "execution_count": 176,
   "id": "5a929db0-4ecf-4547-9236-4cd6fc050074",
   "metadata": {},
   "outputs": [],
   "source": [
    "def case_string_determiner(str):\n",
    "    # at first, we'll need to preprocess the string and remove underscore, space and other characters\n",
    "    str = ''.join(filter(lambda x: x != ' ', str))\n",
    "    count_upper = 0\n",
    "    count_lower = 0\n",
    "    for i in range(len(str)):\n",
    "        if str[i] == str[i].upper():\n",
    "            count_upper += 1\n",
    "        elif str[i] == str[i].lower():\n",
    "            count_lower += 1\n",
    "        else:\n",
    "            pass\n",
    "    return (count_upper, count_lower)"
   ]
  },
  {
   "cell_type": "code",
   "execution_count": 208,
   "id": "8ced6660-dfdc-41b9-8b1b-72e836caf4f8",
   "metadata": {},
   "outputs": [
    {
     "name": "stdout",
     "output_type": "stream",
     "text": [
      "Sample string:  TechByte is a Demo website built as a College project\n",
      "No. of uppercase characters: 4\n",
      "No. of lowercase characters: 40\n"
     ]
    }
   ],
   "source": [
    "str = \"TechByte is a Demo website built as a College project\"\n",
    "count_upper, count_lower = case_string_determiner(str)\n",
    "print(f\"Sample string: \", str)\n",
    "print(f\"No. of uppercase characters:\", count_upper)\n",
    "print(f\"No. of lowercase characters:\", count_lower)"
   ]
  },
  {
   "cell_type": "markdown",
   "id": "ca0ffdb8-5cb2-4cf9-b714-29ebb2ba5f50",
   "metadata": {},
   "source": [
    "Write a Python program to print the even numbers from a given list."
   ]
  },
  {
   "cell_type": "code",
   "execution_count": 237,
   "id": "cbdbdf59-b313-4722-ad79-44c5c1cc1b90",
   "metadata": {},
   "outputs": [],
   "source": [
    "def print_even(arr):\n",
    "    result = list(filter(lambda x: x if x%2 == 0 else 0, arr))\n",
    "    return result"
   ]
  },
  {
   "cell_type": "code",
   "execution_count": 239,
   "id": "68eb9f01-7d40-42b5-987e-2c66dfafda11",
   "metadata": {},
   "outputs": [
    {
     "data": {
      "text/plain": [
       "[2, 4, 6, 8]"
      ]
     },
     "execution_count": 239,
     "metadata": {},
     "output_type": "execute_result"
    }
   ],
   "source": [
    "given_list = [1, 2, 3, 4, 5, 6, 7, 8, 9]\n",
    "print_even(given_list)"
   ]
  },
  {
   "cell_type": "markdown",
   "id": "a2ce09b0-11e3-4894-90cf-877e4e73e813",
   "metadata": {},
   "source": [
    "Write a Python function to check whether a number is perfect or not."
   ]
  },
  {
   "cell_type": "markdown",
   "id": "b311f3e4-a54b-45ab-978e-1dcab8a773ad",
   "metadata": {},
   "source": [
    "The first perfect number is 6, because 1, 2, and 3 are its proper positive divisors, and 1 + 2 + 3 = 6. \n",
    "Equivalently, the number 6 is equal to half the sum of all its positive divisors: ( 1 + 2 + 3 + 6 ) / 2 = 6. \n",
    "\n",
    "The next perfect number is 28 = 1 + 2 + 4 + 7 + 14. This is followed by the perfect numbers 496 and 8128."
   ]
  },
  {
   "cell_type": "code",
   "execution_count": 322,
   "id": "e7cf2bed-4d22-465d-bbdb-5045658363dc",
   "metadata": {},
   "outputs": [],
   "source": [
    "def is_perfect(num):\n",
    "    divisible = []\n",
    "    for i in range(1, num):\n",
    "        if num % i == 0:\n",
    "            divisible.append(i)\n",
    "    print(f\"Divisor of {num} are:\", divisible)\n",
    "    return sum(divisible) == num"
   ]
  },
  {
   "cell_type": "code",
   "execution_count": 328,
   "id": "641540c7-43a0-4574-ac6a-882eab7b1592",
   "metadata": {},
   "outputs": [
    {
     "name": "stdout",
     "output_type": "stream",
     "text": [
      "Divisor of 196 are: [1, 2, 4, 7, 14, 28, 49, 98]\n",
      "Is 3 a perfect divisor: False\n"
     ]
    }
   ],
   "source": [
    "result = is_perfect(196)\n",
    "print(f\"Is {num} a perfect divisor:\", result)"
   ]
  },
  {
   "cell_type": "code",
   "execution_count": 294,
   "id": "2158349e-938e-4f38-8430-1307365568ab",
   "metadata": {},
   "outputs": [
    {
     "data": {
      "text/plain": [
       "2"
      ]
     },
     "execution_count": 294,
     "metadata": {},
     "output_type": "execute_result"
    }
   ],
   "source": [
    "num - 1"
   ]
  },
  {
   "cell_type": "markdown",
   "id": "6ce323a5-7639-487a-be0f-66c11caa2ff6",
   "metadata": {},
   "source": [
    "Write a python function that accepts a string as input and returns the word with most occurence."
   ]
  },
  {
   "cell_type": "code",
   "execution_count": 106,
   "id": "8fde9c75-71bb-4626-aecf-490e81f4f01f",
   "metadata": {},
   "outputs": [],
   "source": [
    "def highestFreq(some_str):\n",
    "    split_words = some_str.lower().split(\" \")\n",
    "    count = {}\n",
    "    for word in split_words:\n",
    "        if word in count:\n",
    "            count[word] += 1\n",
    "        else:\n",
    "            count[word] = 1\n",
    "\n",
    "    max_count = 0\n",
    "    most_frequent_word = \"\"\n",
    "    for word, counter in count.items():\n",
    "        if counter > max_count:\n",
    "            max_count = counter\n",
    "            most_frequent_word = word\n",
    "    return (most_frequent_word, max_count)\n",
    "        "
   ]
  },
  {
   "cell_type": "code",
   "execution_count": 108,
   "id": "802aecef-56f8-4001-a495-90d3dea27e4c",
   "metadata": {},
   "outputs": [
    {
     "name": "stdout",
     "output_type": "stream",
     "text": [
      "Most Frequent word: amir -> 2\n"
     ]
    }
   ],
   "source": [
    "demo = \"I am Amir & this is a demo written by Amir\"\n",
    "most_frequent_word, max_count = highestFreq(demo)\n",
    "print(f\"Most Frequent word: {most_frequent_word} -> {max_count}\")"
   ]
  },
  {
   "cell_type": "markdown",
   "id": "27bf409d-d298-4067-b59f-7f4faec62dff",
   "metadata": {},
   "source": [
    " Write a python function that receives a list of integers and prints l\n",
    "List it em\r\n",
    "out a histogram of bin siz\n",
    "Input:\r\n",
    "[13,42,15,37,22,39,41,50 \n",
    "Output:\r\n",
    "{11-20:2,21-30:1,31-40:2,41-50:3}]e 10"
   ]
  },
  {
   "cell_type": "code",
   "execution_count": 235,
   "id": "42b4865d-ec1c-4b13-abe0-e5197b47c636",
   "metadata": {},
   "outputs": [],
   "source": [
    "def make_histo(lst):\n",
    "    minm = min(lst)\n",
    "    maxm = max(lst)\n",
    "    start = ((minm // 10) * 10) + 1\n",
    "    end = ((maxm // 10) + 1) * 10\n",
    "    bins = {}\n",
    "    for i in range(start, end, 10):\n",
    "        lower = i\n",
    "        upper = i + 9\n",
    "        count = 0\n",
    "\n",
    "        for num in lst:\n",
    "            if lower <= num <= upper:\n",
    "                count += 1\n",
    "\n",
    "        label = f\"{lower}-{upper}\"\n",
    "        bins[label] = count\n",
    "    return bins"
   ]
  },
  {
   "cell_type": "code",
   "execution_count": 237,
   "id": "cda734d8-95b0-465e-8cb1-ebfd29dc2c43",
   "metadata": {},
   "outputs": [
    {
     "data": {
      "text/plain": [
       "{'11-20': 2, '21-30': 2, '31-40': 1, '41-50': 1, '51-60': 0, '61-70': 1}"
      ]
     },
     "execution_count": 237,
     "metadata": {},
     "output_type": "execute_result"
    }
   ],
   "source": [
    "lst = [10, 14, 12, 25, 36, 45, 66, 22]\n",
    "make_histo(lst)"
   ]
  },
  {
   "cell_type": "markdown",
   "id": "da46f5ea-8f48-4997-953c-74f44e7d14eb",
   "metadata": {},
   "source": [
    " Write a python function that accepts a list of 2D co-ordinates and a query point, and then finds the the co-ordinate which is closest in terms of distance from the query point. List of Coordinates\r\n",
    "[(1,1),(2,2),(3,3),(4,4)]\r\n",
    "Query Point\r\n",
    "(0,0)"
   ]
  },
  {
   "cell_type": "code",
   "execution_count": 314,
   "id": "77264aef-be50-40d9-970e-96a3eb88da41",
   "metadata": {},
   "outputs": [],
   "source": [
    "import math\n",
    "def shortest_distance(list_coordinates, query_point):\n",
    "    # distances = []\n",
    "    min_distance = float('inf')\n",
    "    closest_point = None\n",
    "    for point in list_coordinates:\n",
    "        y_coord = (query_point[1] - point[1]) ** 2\n",
    "        x_coord = (query_point[0] - point[0]) ** 2\n",
    "        distance = math.sqrt(y_coord + x_coord)\n",
    "        # distances.append(distance)\n",
    "        if distance < min_distance:\n",
    "            min_distance = distance\n",
    "            closest_point = point\n",
    "    return closest_point"
   ]
  },
  {
   "cell_type": "code",
   "execution_count": 316,
   "id": "7d5f6034-e3e3-4291-b3ff-9e5f8a30b3b2",
   "metadata": {},
   "outputs": [
    {
     "name": "stdout",
     "output_type": "stream",
     "text": [
      "(1, 1)\n"
     ]
    }
   ],
   "source": [
    "lc =  [(1,1),(2,2),(3,3),(4,4)]\n",
    "qp = (0,0)\n",
    "print(shortest_distance(lc, qp))"
   ]
  },
  {
   "cell_type": "markdown",
   "id": "e3b2f547-12a0-4233-885a-c76e91f2381a",
   "metadata": {},
   "source": [
    "Write a python program that receives a list of strings and performs bag of word operation on those strings\n",
    "\n",
    "https://en.wikipedia.org/wiki/Bag-of-words_model"
   ]
  },
  {
   "cell_type": "code",
   "execution_count": 188,
   "id": "3b0e88b6-b9f5-463f-85c4-99e866b21bca",
   "metadata": {},
   "outputs": [],
   "source": [
    "def bow(*lst_str):\n",
    "    bow_str = {}\n",
    "    for i in lst_str:\n",
    "        splitted_words = i.split(\" \")\n",
    "        for word in splitted_words:\n",
    "            if word in bow_str:\n",
    "                bow_str[word] += 1\n",
    "            else:\n",
    "                bow_str[word] = 1\n",
    "    return bow_str"
   ]
  },
  {
   "cell_type": "code",
   "execution_count": 190,
   "id": "b1eac107-6755-432c-bdae-0b0c3f462888",
   "metadata": {},
   "outputs": [
    {
     "name": "stdout",
     "output_type": "stream",
     "text": [
      "{'I': 3, 'am': 1, 'Amir': 1, 'live': 1, 'in': 1, 'Vancouver': 2, 'work': 1, 'at': 1, 'Delta': 1, 'Hotels': 1, 'Downtown': 1, 'Suites': 1}\n"
     ]
    }
   ],
   "source": [
    "str1 = \"I am Amir\"\n",
    "str2 = \"I live in Vancouver\"\n",
    "str3 = \"I work at Delta Hotels Vancouver Downtown Suites\"\n",
    "# str = [str1, str2, str3]\n",
    "print(bow(str1, str2, str3))"
   ]
  },
  {
   "cell_type": "markdown",
   "id": "93259bc2-e1fe-46f4-a9c6-a39bb1694849",
   "metadata": {},
   "source": [
    "Write a Python program to add three given lists using Python map and lambda."
   ]
  },
  {
   "cell_type": "code",
   "execution_count": 281,
   "id": "ee6a1e00-75a9-4064-97a1-cf701cd08288",
   "metadata": {},
   "outputs": [],
   "source": [
    "def add_lists(*num_lists):\n",
    "    add = map(lambda x,y,z: x+y+z, *num_lists)\n",
    "    return list(add)"
   ]
  },
  {
   "cell_type": "code",
   "execution_count": 283,
   "id": "b64cc885-fdcf-4009-a383-40e20b6b66a5",
   "metadata": {},
   "outputs": [
    {
     "name": "stdout",
     "output_type": "stream",
     "text": [
      "[12, 15, 18]\n"
     ]
    }
   ],
   "source": [
    "print(add_lists([1, 2, 3], [4, 5, 6], [7, 8, 9]))"
   ]
  },
  {
   "cell_type": "markdown",
   "id": "27810f8b-3126-4679-962d-dc2553559e5d",
   "metadata": {},
   "source": [
    "Using filter() and list() functions and .lower() method filter all the vowels in a given string."
   ]
  },
  {
   "cell_type": "code",
   "execution_count": 288,
   "id": "2fd02ccb-011e-45f2-b2f1-b68de669c20e",
   "metadata": {},
   "outputs": [],
   "source": [
    "def filter_vowel(text):\n",
    "    vowels = filter(lambda x: x in ['a', 'e', 'i', 'o', 'u'], text.lower())\n",
    "    return list(vowels)"
   ]
  },
  {
   "cell_type": "code",
   "execution_count": 298,
   "id": "b91c41c8-6135-4113-97b8-6ae65baf4acf",
   "metadata": {},
   "outputs": [
    {
     "name": "stdout",
     "output_type": "stream",
     "text": [
      "['a', 'a', 'e', 'i', 'i']\n"
     ]
    }
   ],
   "source": [
    "print(filter_vowel('Characteristics'))"
   ]
  },
  {
   "cell_type": "code",
   "execution_count": null,
   "id": "0326bf50-c3d4-4f47-b37f-91356979d183",
   "metadata": {},
   "outputs": [],
   "source": []
  },
  {
   "cell_type": "code",
   "execution_count": null,
   "id": "2754a9b6-3edc-4559-835b-05fcfaae58c7",
   "metadata": {},
   "outputs": [],
   "source": []
  }
 ],
 "metadata": {
  "kernelspec": {
   "display_name": "Python 3 (ipykernel)",
   "language": "python",
   "name": "python3"
  },
  "language_info": {
   "codemirror_mode": {
    "name": "ipython",
    "version": 3
   },
   "file_extension": ".py",
   "mimetype": "text/x-python",
   "name": "python",
   "nbconvert_exporter": "python",
   "pygments_lexer": "ipython3",
   "version": "3.12.4"
  }
 },
 "nbformat": 4,
 "nbformat_minor": 5
}
