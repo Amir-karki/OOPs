{
 "cells": [
  {
   "cell_type": "markdown",
   "id": "1741ebb5-56e2-48c1-9498-3d3589508635",
   "metadata": {},
   "source": [
    "Rectangle Class\r\n",
    "Write a Rectangle class in Python language, allowing you to build a rectangle with length and width attributes.\r\n",
    "\r\n",
    "Create a Perimeter() method to calculate the perimeter of the rectangle and a Area() method to calculate the area of ​​the rectangle.\r\n",
    "\r\n",
    "Create a method display() that display the length, width, perimeter and area of an object created using an instantiation on rectangle class."
   ]
  },
  {
   "cell_type": "code",
   "execution_count": 42,
   "id": "d52c9c27-474c-4631-b2df-4b1f62b98fdd",
   "metadata": {},
   "outputs": [],
   "source": [
    "class Rectangle:\n",
    "\n",
    "    def __init__(self, length, width):\n",
    "        self.length = length\n",
    "        self.width = width\n",
    "\n",
    "    def Perimeter(self):\n",
    "        perimeter = 2 * (self.length + self.width)\n",
    "        print(f\"Perimeter of Rectangle with ({self.length}, {self.width}): {perimeter}\")\n",
    "\n",
    "    def Area(self):\n",
    "        area = self.length * self.width\n",
    "        print(f\"Area of Rectangle with ({self.length}, {self.width}): {area}\")\n",
    "\n",
    "    def display(self):\n",
    "        self.Perimeter()\n",
    "        self.Area()"
   ]
  },
  {
   "cell_type": "code",
   "execution_count": 44,
   "id": "268d2f39-8443-4305-a144-0d7d9c2b8aeb",
   "metadata": {},
   "outputs": [
    {
     "name": "stdout",
     "output_type": "stream",
     "text": [
      "Perimeter of Rectangle with (4, 3): 14\n",
      "Area of Rectangle with (4, 3): 12\n"
     ]
    }
   ],
   "source": [
    "obj = Rectangle(4, 3)\n",
    "obj.display()"
   ]
  },
  {
   "cell_type": "markdown",
   "id": "bfa93cbd-22e6-434c-b67e-0919b62290c5",
   "metadata": {},
   "source": [
    "<hr>"
   ]
  },
  {
   "cell_type": "markdown",
   "id": "ce368760-1422-497c-ac93-97bbb0937dec",
   "metadata": {},
   "source": [
    "Create a Python class called BankAccount which represents a bank account, having as attributes: accountNumber (numeric type), name (name of the account owner as string type), balance.\r\n",
    "Create a constructor with parameters: accountNumber, name, balance.\r\n",
    "Create a Deposit() method which manages the deposit actions.\r\n",
    "Create a Withdrawal() method which manages withdrawals actions.\r\n",
    "Create an bankFees() method to apply the bank fees with a percentage of 5% of the balance account.\r\n",
    "Create a display() method to display account details. Give the complete code for the BankAccount class."
   ]
  },
  {
   "cell_type": "code",
   "execution_count": 67,
   "id": "3517c472-5566-4e1c-a712-32e7fc2a34d2",
   "metadata": {},
   "outputs": [],
   "source": [
    "class BankAccount:\n",
    "\n",
    "    def __init__(self, accountNumber, name, pin, balance=0):\n",
    "        self.accountNumber = int(accountNumber)\n",
    "        self.name = str(name)\n",
    "        self.balance = balance\n",
    "        self.pin = pin\n",
    "        print(f\"Hi {self.name}! You've got {self.balance} on your account. \")\n",
    "        print(\"What brought you here today(Deposit/Withdraw)? Remember there's bank fee of 5% if you wish to withdraw your funds. We're pretty poor...\")\n",
    "\n",
    "    def Deposit(self):\n",
    "        amount = int(input(\"Enter the amount you want to deposit: \"))\n",
    "        self.balance += amount\n",
    "        print(f\"Your new balalnce is: {self.balance}\")\n",
    "\n",
    "    def Withdrawal(self):\n",
    "        user_pin = int(input(\"Enter your account pin for validation: \"))\n",
    "        if user_pin == self.pin:\n",
    "            funds = int(input(\"Enter the amount you want to withdraw: \"))\n",
    "            total_with_charge = funds + funds * (0.05)\n",
    "            if total_with_charge <= self.balance:\n",
    "                remaining_balance = self.balance - total_with_charge\n",
    "                self.balance = remaining_balance\n",
    "                print(f\"${funds} withdrawn succesfully with 5% bank fees! Remaining balance ${self.balance}\")\n",
    "            else:\n",
    "                print(\"You don't have enough money on your account!\")\n",
    "        else:\n",
    "            print(\"Incorrect Pin! Sorry, you're unable to withdraw!\")\n",
    "\n",
    "    def display(self):\n",
    "        self.Deposit()\n",
    "        self.Withdrawal()\n",
    "        "
   ]
  },
  {
   "cell_type": "code",
   "execution_count": 69,
   "id": "046ee98e-0eef-4396-b3ed-f91dd342fea6",
   "metadata": {},
   "outputs": [
    {
     "name": "stdout",
     "output_type": "stream",
     "text": [
      "Hi Amir! You've got 5000 on your account. \n",
      "What brought you here today(Deposit/Withdraw)? Remember there's bank fee of 5% if you wish to withdraw your funds. We're pretty poor...\n"
     ]
    },
    {
     "name": "stdin",
     "output_type": "stream",
     "text": [
      "Enter the amount you want to deposit:  1000\n"
     ]
    },
    {
     "name": "stdout",
     "output_type": "stream",
     "text": [
      "Your new balalnce is: 6000\n"
     ]
    },
    {
     "name": "stdin",
     "output_type": "stream",
     "text": [
      "Enter your account pin for validation:  7171\n",
      "Enter the amount you want to withdraw:  4000\n"
     ]
    },
    {
     "name": "stdout",
     "output_type": "stream",
     "text": [
      "$4000 withdrawn succesfully with 5% bank fees! Remaining balance $1800.0\n"
     ]
    }
   ],
   "source": [
    "obj = BankAccount(12345, \"Amir\", 7171, 5000)\n",
    "obj.display()"
   ]
  },
  {
   "cell_type": "markdown",
   "id": "ed5136fd-c7e0-40e3-a733-cf2df07b713b",
   "metadata": {},
   "source": [
    "<hr>"
   ]
  },
  {
   "cell_type": "markdown",
   "id": "f774eae2-8e1e-42d7-8f67-0e3212261a5c",
   "metadata": {},
   "source": [
    "Computation class\n",
    "Create a Computation class with a default constructor (without parameters) allowing to perform various calculations on integers numbers.\n",
    "\n",
    "Create a method called Factorial() which allows to calculate the factorial of an integer n. Integer n as parameter for this method\n",
    "\n",
    "Create a method called naturalSum() allowing to calculate the sum of the first n integers 1 + 2 + 3 + .. + n. Integer n as parameter for this method.\n",
    "\n",
    "Create a method called testPrime() in the Calculation class to test the primality of a given integer n, n is Prime or Not? Integer n as parameter for this method.\n",
    "\n",
    "Create a method called testPrims() allowing to test if two numbers are prime between them. Two integers are prime to one another if they have only 1 as their common divisor. Eg. 4 and 9 are prime to each other.\n",
    "\n",
    "Create a tableMult() method which creates and displays the multiplication table of a given integer. Then create an allTablesMult() method to display all the integer multiplication tables 1, 2, 3, ..., 9.\n",
    "\n",
    "Create a static listDiv() method that gets all the divisors of a given integer on new list called Ldiv. Create another listDivPrim() method that gets all the prime divisors of a given integer."
   ]
  },
  {
   "cell_type": "code",
   "execution_count": 73,
   "id": "be6c4057-8e01-4aa8-a50f-3ab8218f9e8e",
   "metadata": {},
   "outputs": [],
   "source": [
    "class Computation:\n",
    "    def __init__(self):\n",
    "        pass\n",
    "\n",
    "    def Factorial(self):\n",
    "        pass\n",
    "\n",
    "    def naturalSum(self):\n",
    "        pass\n",
    "\n",
    "    def testPrime(self):\n",
    "        pass\n",
    "\n",
    "    def tableMult(self):\n",
    "        pass"
   ]
  },
  {
   "cell_type": "code",
   "execution_count": 75,
   "id": "92c74c44-a90b-4ed4-8a04-5887b7a9ea37",
   "metadata": {},
   "outputs": [],
   "source": [
    "obj = Computation()"
   ]
  },
  {
   "cell_type": "code",
   "execution_count": null,
   "id": "9735b59d-af4b-4091-afdd-eca7d7bc4d85",
   "metadata": {},
   "outputs": [],
   "source": []
  }
 ],
 "metadata": {
  "kernelspec": {
   "display_name": "Python 3 (ipykernel)",
   "language": "python",
   "name": "python3"
  },
  "language_info": {
   "codemirror_mode": {
    "name": "ipython",
    "version": 3
   },
   "file_extension": ".py",
   "mimetype": "text/x-python",
   "name": "python",
   "nbconvert_exporter": "python",
   "pygments_lexer": "ipython3",
   "version": "3.12.4"
  }
 },
 "nbformat": 4,
 "nbformat_minor": 5
}
