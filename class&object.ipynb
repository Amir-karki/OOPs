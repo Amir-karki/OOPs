{
 "cells": [
  {
   "cell_type": "code",
   "execution_count": 57,
   "id": "3c8dcdaf-29d2-493c-8971-8f55a73cd6a6",
   "metadata": {},
   "outputs": [],
   "source": [
    "class Atm:\n",
    "\n",
    "    def __init__(self):\n",
    "        self.pin = ''\n",
    "        self.balance = 0\n",
    "\n",
    "    def home(self):\n",
    "        user_input = input(\"\"\"\n",
    "        Hi there, how can I help you today?\n",
    "        1. Enter 1 to set pin\n",
    "        2. Enter 2 to reset pin\n",
    "        3. Enter 3 to check balance\n",
    "        4. Enter 4 to withdraw\n",
    "        5. Enter anyother key to exit\n",
    "        \"\"\")\n",
    "\n",
    "        if user_input == '1':\n",
    "            # set pin\n",
    "            self.create_pin()\n",
    "        elif user_input == '2':\n",
    "            # reset pin\n",
    "            self.reset_pin()\n",
    "        elif user_input == '3':\n",
    "            # check balance\n",
    "            self.check_balance()\n",
    "        elif user_input == '4':\n",
    "            # withdraw money\n",
    "            self.withdraw()\n",
    "        else:\n",
    "            exit()\n",
    "\n",
    "    def create_pin(self):\n",
    "        user_pin = input(\"Enter pin: \")\n",
    "        self.pin = user_pin\n",
    "\n",
    "        user_balance = int(input(\"Please enter your balance: \"))\n",
    "        self.balance = user_balance\n",
    "\n",
    "        print(\"Pin Created Successfully!\")\n",
    "\n",
    "    def reset_pin(self):\n",
    "        old_pin = input(\"Enter your old pin to continue!\")\n",
    "        if old_pin == self.pin:\n",
    "            new_pin = input(\"Enter new pin: \")\n",
    "            self.pin = new_pin\n",
    "            self.home()\n",
    "        else:\n",
    "            print(\"Old pin didn't match!\")\n",
    "            self.home()\n",
    "\n",
    "    def check_balance(self):\n",
    "        check_pin = input(\"Enter your pin to check balance: \")\n",
    "        if check_pin == self.pin:\n",
    "            print(f\"Your balance is {self.balance}\")\n",
    "        else:\n",
    "            print(\"Sorry, the pin you entered is incorrect!\")\n",
    "\n",
    "    def withdraw(self):\n",
    "        withdraw_pin = input(\"Enter your pin to withdraw balance: \")\n",
    "        if withdraw_pin == self.pin:\n",
    "            amount = int(input(\"Enter the amount you want to withdraw: \"))\n",
    "            if amount <= self.balance:\n",
    "                self.balance = self.balance - amount\n",
    "                print(f\"Your balance of amount {amount} is withdrawn. Remaining balance: {self.balance}\")\n",
    "            else:\n",
    "                print(\"Sorry not enough funds!\")\n",
    "        else:\n",
    "            print(\"The pin you entered is incorrect!\")\n",
    "        self.home()\n",
    "            "
   ]
  },
  {
   "cell_type": "code",
   "execution_count": 59,
   "id": "af83db31-ec0b-449f-b6d5-b46bf653b767",
   "metadata": {},
   "outputs": [
    {
     "name": "stdin",
     "output_type": "stream",
     "text": [
      "Enter pin:  111\n",
      "Please enter your balance:  5000\n"
     ]
    },
    {
     "name": "stdout",
     "output_type": "stream",
     "text": [
      "Pin Created Successfully!\n"
     ]
    }
   ],
   "source": [
    "Obj = Atm()\n",
    "Obj.create_pin()"
   ]
  },
  {
   "cell_type": "code",
   "execution_count": 61,
   "id": "2ee47621-7433-4cfb-8711-a5438469759e",
   "metadata": {},
   "outputs": [
    {
     "name": "stdin",
     "output_type": "stream",
     "text": [
      "Enter your pin to check balance:  111\n"
     ]
    },
    {
     "name": "stdout",
     "output_type": "stream",
     "text": [
      "Your balance is 5000\n"
     ]
    }
   ],
   "source": [
    "# Obj.reset_pin()\n",
    "Obj.check_balance()"
   ]
  },
  {
   "cell_type": "code",
   "execution_count": 63,
   "id": "33260359-4ed2-414f-a5b5-da2c6553f2db",
   "metadata": {},
   "outputs": [
    {
     "name": "stdin",
     "output_type": "stream",
     "text": [
      "Enter your pin to withdraw balance:  111\n",
      "Enter the amount you want to withdraw:  4999\n"
     ]
    },
    {
     "name": "stdout",
     "output_type": "stream",
     "text": [
      "Your balance of amount 4999 is withdrawn. Remaining balance: 1\n"
     ]
    },
    {
     "name": "stdin",
     "output_type": "stream",
     "text": [
      "\n",
      "        Hi there, how can I help you today?\n",
      "        1. Enter 1 to set pin\n",
      "        2. Enter 2 to reset pin\n",
      "        3. Enter 3 to check balance\n",
      "        4. Enter 4 to withdraw\n",
      "        5. Enter anyother key to exit\n",
      "         8\n"
     ]
    }
   ],
   "source": [
    "Obj.withdraw()"
   ]
  },
  {
   "cell_type": "markdown",
   "id": "ea52a6f7-966d-485c-b682-ed4b4c0629b6",
   "metadata": {},
   "source": [
    "<h4>Magic Methods aka Dunder Method</h4>"
   ]
  },
  {
   "cell_type": "markdown",
   "id": "e4d398f6-7dc4-4aa9-b35a-642f79d3c42c",
   "metadata": {},
   "source": [
    "The __init__ is one of the dunder method, also called constructor. Why is it automatically called though unlike other method? The answer lies in the applications usage, In constructor we often write the configuration files, let's say, your app needs to connect to db, this should happen automatically when the program runs, thus, these types of configuration code/files are initialized in the constructor."
   ]
  },
  {
   "cell_type": "code",
   "execution_count": null,
   "id": "22923c94-0561-41c3-9248-2235d87eb0fd",
   "metadata": {},
   "outputs": [],
   "source": []
  }
 ],
 "metadata": {
  "kernelspec": {
   "display_name": "Python 3 (ipykernel)",
   "language": "python",
   "name": "python3"
  },
  "language_info": {
   "codemirror_mode": {
    "name": "ipython",
    "version": 3
   },
   "file_extension": ".py",
   "mimetype": "text/x-python",
   "name": "python",
   "nbconvert_exporter": "python",
   "pygments_lexer": "ipython3",
   "version": "3.12.4"
  }
 },
 "nbformat": 4,
 "nbformat_minor": 5
}
